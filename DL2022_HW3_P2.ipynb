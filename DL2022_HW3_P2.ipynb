{
  "cells": [
    {
      "cell_type": "markdown",
      "metadata": {
        "id": "view-in-github",
        "colab_type": "text"
      },
      "source": [
        "<a href=\"https://colab.research.google.com/github/Nikelroid/DeepLearning_HW3/blob/main/DL2022_HW3_P2.ipynb\" target=\"_parent\"><img src=\"https://colab.research.google.com/assets/colab-badge.svg\" alt=\"Open In Colab\"/></a>"
      ]
    },
    {
      "cell_type": "markdown",
      "metadata": {
        "id": "tNTzDeqCe-Mw"
      },
      "source": [
        "# **Prepairing**"
      ]
    },
    {
      "cell_type": "markdown",
      "source": [
        "Toggle parts of code"
      ],
      "metadata": {
        "id": "TFD4Gpw2VXVB"
      }
    },
    {
      "cell_type": "code",
      "source": [
        "A = True\n",
        "B = True\n",
        "C = True\n",
        "D = True"
      ],
      "metadata": {
        "id": "yQotIrZuLCDo"
      },
      "execution_count": 11,
      "outputs": []
    },
    {
      "cell_type": "markdown",
      "source": [
        "Import google drive"
      ],
      "metadata": {
        "id": "RMEY_RwwVVrd"
      }
    },
    {
      "cell_type": "code",
      "execution_count": 2,
      "metadata": {
        "colab": {
          "base_uri": "https://localhost:8080/"
        },
        "id": "UINuGulVHxZJ",
        "outputId": "c4106860-3dd7-4f68-fa40-0bcdbcaab7b6"
      },
      "outputs": [
        {
          "output_type": "stream",
          "name": "stdout",
          "text": [
            "Mounted at /content/drive\n"
          ]
        }
      ],
      "source": [
        "from google.colab import drive\n",
        "drive.mount('/content/drive')"
      ]
    },
    {
      "cell_type": "markdown",
      "source": [
        "Import libraries"
      ],
      "metadata": {
        "id": "3x24yAr-VSBn"
      }
    },
    {
      "cell_type": "code",
      "source": [
        "import torch\n",
        "import torch.nn as nn\n",
        "from matplotlib import pyplot as plt\n",
        "import torchvision\n",
        "import torchvision.transforms as transforms\n",
        "from tqdm import tqdm\n",
        "import numpy as np\n",
        "import math\n",
        "from torchvision.models import resnet50, ResNet50_Weights,resnet18,ResNet18_Weights\n",
        "%cd drive/MyDrive/deep_learning/HW3\n",
        "!ls\n",
        "%matplotlib inline"
      ],
      "metadata": {
        "id": "UKtm5mn2pb-w",
        "colab": {
          "base_uri": "https://localhost:8080/"
        },
        "outputId": "c6898ac9-ff1c-4937-d4c5-0dc68eea863d"
      },
      "execution_count": 4,
      "outputs": [
        {
          "output_type": "stream",
          "name": "stdout",
          "text": [
            "/content/drive/.shortcut-targets-by-id/1KZZqRvYOsVtD6jug6vCwrUyHDtR2xmuK/HW3\n",
            " acc4.jpg\n",
            " CNN_MODEL.pth\n",
            " data\n",
            " DL2022-HW3-P1.ipynb\n",
            " DL2022-HW3-P2.ipynb\n",
            " loss4.jpg\n",
            " MODEL.pth\n",
            " Resnet18_Cifar10_KD.pth\n",
            " Resnet18_Cifar10_no_teacher.pth\n",
            " Resnet50_Cifar10_full.pth\n",
            " Resnet50_Cifar10_lastlayer.pth\n",
            " runs\n",
            "'Shoe vs Sandal vs Boot Dataset'\n",
            " shoe-vs-sandal-vs-boot-dataset-15k-images.zip\n",
            " Test-x.txt\n",
            " Test-y.txt\n",
            " Train-x.txt\n",
            " Train-y.txt\n"
          ]
        }
      ]
    },
    {
      "cell_type": "markdown",
      "source": [
        "Load CUDA on device"
      ],
      "metadata": {
        "id": "CX2xIJAYVMdv"
      }
    },
    {
      "cell_type": "code",
      "source": [
        "device = torch.device(\"cuda\") if torch.cuda.is_available() else torch.device(\"cpu\")\n",
        "print(f'Using {device} for inference')"
      ],
      "metadata": {
        "colab": {
          "base_uri": "https://localhost:8080/"
        },
        "id": "GG69y6SXpY5s",
        "outputId": "3e3d6515-286e-4326-ebc9-4aaee2dcb893"
      },
      "execution_count": 5,
      "outputs": [
        {
          "output_type": "stream",
          "name": "stdout",
          "text": [
            "Using cuda for inference\n"
          ]
        }
      ]
    },
    {
      "cell_type": "markdown",
      "source": [
        "# **Load Data and preprocess**"
      ],
      "metadata": {
        "id": "RgehbeCeVF2l"
      }
    },
    {
      "cell_type": "code",
      "source": [
        "data_dir = './data'\n",
        "transform = transforms.Compose([transforms.Resize((224,224))\n",
        "                                ,transforms.RandomHorizontalFlip()\n",
        "                                ,transforms.ToTensor()\n",
        "                                #,transforms.Normalize([0.51, 0.47, 0.35],[0.28, 0.25, 0.28])\n",
        "                                ])\n",
        "trainset = torchvision.datasets.CIFAR10(root=data_dir, train=True, download=True, transform=transform)\n",
        "train_loader = torch.utils.data.DataLoader(trainset, batch_size=64, shuffle=True, num_workers=2)\n",
        "testset = torchvision.datasets.CIFAR10(root=data_dir, train=False, download=True, transform=transform)\n",
        "test_loader = torch.utils.data.DataLoader(testset, batch_size=64, shuffle=False, num_workers=2)\n",
        "classes = ('plane', 'car', 'bird', 'cat', 'deer', 'dog', 'frog', 'horse', 'ship', 'truck')"
      ],
      "metadata": {
        "colab": {
          "base_uri": "https://localhost:8080/"
        },
        "id": "naL4NaRl2zl5",
        "outputId": "c01f2071-6fa4-4b07-b599-a2e75a69d703"
      },
      "execution_count": 6,
      "outputs": [
        {
          "output_type": "stream",
          "name": "stdout",
          "text": [
            "Files already downloaded and verified\n",
            "Files already downloaded and verified\n"
          ]
        }
      ]
    },
    {
      "cell_type": "markdown",
      "source": [
        "Define general Train and eval functions"
      ],
      "metadata": {
        "id": "7qoHB-74U--L"
      }
    },
    {
      "cell_type": "code",
      "source": [
        "\n",
        "def train_epoch(net: nn.Module, criterion: nn.Module, optimizer: torch.optim.Optimizer, dataloader: torch.utils.data.DataLoader,   accs_train ,loss_train):\n",
        "\n",
        "    epoch_loss = 0\n",
        "    epoch_true = 0\n",
        "    epoch_all = 0\n",
        "    i = 0\n",
        "\n",
        "    net.train()\n",
        "    optimizer.zero_grad()\n",
        "\n",
        "    with tqdm(enumerate(dataloader), total=len(dataloader)) as pbar:\n",
        "        for i, (x, y) in pbar: \n",
        "            x = x.to(device)  \n",
        "            y = y.to(device)\n",
        "            p = net(x)\n",
        "            loss = criterion(p, y)\n",
        "            epoch_loss += float(loss)\n",
        "            predictions = p.argmax(-1)\n",
        "            epoch_all += len(predictions)\n",
        "            epoch_true += (predictions == y).sum()\n",
        "            pbar.set_description(f'Loss: {epoch_loss / (i + 1):.3e} - Acc: {epoch_true * 100. / epoch_all:.2f}%')\n",
        "            loss.backward()\n",
        "            optimizer.step()\n",
        "            optimizer.zero_grad()\n",
        "          \n",
        "        accs_train.append(float(epoch_true / epoch_all))\n",
        "        loss_train.append(float(epoch_loss / (i + 1)))\n",
        "    return accs_train,loss_train\n",
        "\n",
        "def eval_epoch(net: nn.Module, criterion: nn.Module, dataloader: torch.utils.data.DataLoader,    accs_test ,loss_test ):\n",
        "\n",
        "    epoch_loss = 0\n",
        "    epoch_true = 0\n",
        "    epoch_true_topfive = 0\n",
        "    epoch_all = 0\n",
        "    i = 0\n",
        "\n",
        "    net.eval()\n",
        "\n",
        "    with torch.no_grad(), tqdm(enumerate(dataloader), total=len(dataloader)) as pbar:\n",
        "        for i, (x, y) in pbar:\n",
        "            x = x.to(device)\n",
        "            y = y.to(device)\n",
        "            p = net(x)\n",
        "            loss = criterion(p, y)\n",
        "            epoch_loss += float(loss)\n",
        "\n",
        "            # predict \n",
        "            predictions = p.argmax(-1)\n",
        "            epoch_all += len(predictions)\n",
        "            epoch_true += (predictions == y).sum()\n",
        "\n",
        "            pbar.set_description(f'Loss: {epoch_loss / (i + 1):.3e} - Acc: {epoch_true * 100. / epoch_all:.2f}% ')\n",
        "\n",
        "        accs_test.append(float(epoch_true / epoch_all))\n",
        "        loss_test.append(float(epoch_loss / (i + 1)))\n",
        "    return accs_test,loss_test\n"
      ],
      "metadata": {
        "id": "ZhtmT-QBZlVW"
      },
      "execution_count": 7,
      "outputs": []
    },
    {
      "cell_type": "markdown",
      "source": [
        "# **A - Train last layer and freez other layers**"
      ],
      "metadata": {
        "id": "XrBe2oziO52w"
      }
    },
    {
      "cell_type": "code",
      "source": [
        "if A:\n",
        "  accs = []\n",
        "\n",
        "  class lastLayer(nn.Module):\n",
        "      def __init__(self, pretrained):\n",
        "          super(lastLayer, self).__init__()\n",
        "          self.pretrained = pretrained\n",
        "          self.last = nn.Sequential(\n",
        "              nn.Linear(2048, 10))\n",
        "      \n",
        "      def forward(self, x):\n",
        "          x = self.pretrained(x)\n",
        "          x = self.last(x)\n",
        "          return x\n",
        "\n",
        "\n",
        "\n",
        "  weights = ResNet50_Weights.DEFAULT\n",
        "  net = resnet50(weights=ResNet50_Weights.IMAGENET1K_V2)\n",
        "  net.fc = nn.Sequential()\n",
        "\n",
        "  for param in net.parameters():\n",
        "        param.requires_grad = False\n",
        "\n",
        "  net = lastLayer(net).to(device)\n",
        "\n",
        "  criterion = nn.CrossEntropyLoss().to(device)\n",
        "\n",
        "  print(\"Params to learn:\")\n",
        "  params_to_update = []\n",
        "  for name,param in net.named_parameters():\n",
        "      if param.requires_grad == True:\n",
        "          params_to_update.append(param)\n",
        "          print(\"\\t\",name)\n",
        "\n",
        "  optimizer = torch.optim.RMSprop(params_to_update, lr=2e-4)\n",
        "\n",
        "  epochs = 20\n",
        "  from time import time\n",
        "  accs_train = []\n",
        "  loss_train = []\n",
        "  accs_test = []\n",
        "  loss_test = []\n",
        "  for e in range(epochs):\n",
        "      start_time = time()\n",
        "      accs_train,loss_train = train_epoch(net, criterion, optimizer, train_loader,accs_train,loss_train)\n",
        "      accs_test,loss_test = eval_epoch(net, criterion, test_loader,accs_test,loss_test)\n",
        "      if accs_test[-1]==max(accs_test):\n",
        "        torch.save(net.state_dict(), 'Resnet50_Cifar10_lastlayer.pth')\n",
        "      end_time = time()\n",
        "\n",
        "      print(f'Epoch {e+1:3} finished in {end_time - start_time:.2f}s')\n",
        "\n",
        "  plt.plot(np.array(loss_test), 'r')\n",
        "  plt.plot(np.array(loss_train), 'b')\n",
        "  plt.title('Model loss')\n",
        "  plt.ylabel('Loss')\n",
        "  plt.xlabel('Epoch')\n",
        "  plt.legend(['Test', 'Train'])\n",
        "  plt.savefig('loss4.jpg')\n",
        "  plt.show()\n",
        "\n",
        "  plt.plot(np.array(accs_test), 'r')\n",
        "  plt.plot(np.array(accs_train), 'b')\n",
        "  plt.title('Model Accuracy')\n",
        "  plt.ylabel('Accuracy')\n",
        "  plt.xlabel('Epoch')\n",
        "  plt.legend(['Test', 'Train'])\n",
        "  plt.savefig('acc4.jpg')\n",
        "  plt.show()\n",
        "\n",
        "\n",
        "  print(f'Best Accuracy :{max(accs_test) * 100.:.2f}%')"
      ],
      "metadata": {
        "id": "yzNXevTTtnR8",
        "colab": {
          "base_uri": "https://localhost:8080/",
          "height": 1000,
          "referenced_widgets": [
            "78b3e3ddaf9646048afdf9e0799d3685",
            "2bb638d705f340b2b6b8b386de2b404c",
            "33c3dd520bf3469d991d939d0be6ccd0",
            "47e0c87b494f453db252b983274ce9e8",
            "0965e84d2d014c10924105c37cad6b2b",
            "002d258730cc4ab280cb9c4602d73481",
            "b570737159344cf585647925b060c816",
            "7bc7316b0e054189aeb241617e6c3f5d",
            "122bf577795d4a6bb61fbd789ffffe73",
            "610019b2bf0a48b9836da957a3f5e4ff",
            "34bdc211a73642d8b7a4e89cd2fb0e23"
          ]
        },
        "outputId": "b40dfefb-a459-49a9-f988-a03253dd99db"
      },
      "execution_count": 8,
      "outputs": [
        {
          "output_type": "stream",
          "name": "stderr",
          "text": [
            "Downloading: \"https://download.pytorch.org/models/resnet50-11ad3fa6.pth\" to /root/.cache/torch/hub/checkpoints/resnet50-11ad3fa6.pth\n"
          ]
        },
        {
          "output_type": "display_data",
          "data": {
            "text/plain": [
              "  0%|          | 0.00/97.8M [00:00<?, ?B/s]"
            ],
            "application/vnd.jupyter.widget-view+json": {
              "version_major": 2,
              "version_minor": 0,
              "model_id": "78b3e3ddaf9646048afdf9e0799d3685"
            }
          },
          "metadata": {}
        },
        {
          "output_type": "stream",
          "name": "stdout",
          "text": [
            "Params to learn:\n",
            "\t last.0.weight\n",
            "\t last.0.bias\n"
          ]
        },
        {
          "output_type": "stream",
          "name": "stderr",
          "text": [
            "Loss: 1.095e+00 - Acc: 69.83%: 100%|██████████| 782/782 [02:58<00:00,  4.39it/s]\n",
            "Loss: 8.345e-01 - Acc: 74.36% : 100%|██████████| 157/157 [00:31<00:00,  4.91it/s]\n"
          ]
        },
        {
          "output_type": "stream",
          "name": "stdout",
          "text": [
            "Epoch   1 finished in 214.31s\n"
          ]
        },
        {
          "output_type": "stream",
          "name": "stderr",
          "text": [
            "Loss: 7.803e-01 - Acc: 75.38%: 100%|██████████| 782/782 [02:50<00:00,  4.58it/s]\n",
            "Loss: 7.107e-01 - Acc: 77.19% : 100%|██████████| 157/157 [00:32<00:00,  4.84it/s]\n"
          ]
        },
        {
          "output_type": "stream",
          "name": "stdout",
          "text": [
            "Epoch   2 finished in 203.66s\n"
          ]
        },
        {
          "output_type": "stream",
          "name": "stderr",
          "text": [
            "Loss: 7.003e-01 - Acc: 77.25%: 100%|██████████| 782/782 [02:50<00:00,  4.58it/s]\n",
            "Loss: 6.631e-01 - Acc: 78.77% : 100%|██████████| 157/157 [00:31<00:00,  4.92it/s]\n"
          ]
        },
        {
          "output_type": "stream",
          "name": "stdout",
          "text": [
            "Epoch   3 finished in 203.06s\n"
          ]
        },
        {
          "output_type": "stream",
          "name": "stderr",
          "text": [
            "Loss: 6.572e-01 - Acc: 78.46%: 100%|██████████| 782/782 [02:50<00:00,  4.59it/s]\n",
            "Loss: 6.449e-01 - Acc: 79.20% : 100%|██████████| 157/157 [00:31<00:00,  4.91it/s]\n"
          ]
        },
        {
          "output_type": "stream",
          "name": "stdout",
          "text": [
            "Epoch   4 finished in 203.00s\n"
          ]
        },
        {
          "output_type": "stream",
          "name": "stderr",
          "text": [
            "Loss: 6.306e-01 - Acc: 79.24%: 100%|██████████| 782/782 [02:50<00:00,  4.59it/s]\n",
            "Loss: 6.060e-01 - Acc: 79.99% : 100%|██████████| 157/157 [00:31<00:00,  4.93it/s]\n"
          ]
        },
        {
          "output_type": "stream",
          "name": "stdout",
          "text": [
            "Epoch   5 finished in 202.89s\n"
          ]
        },
        {
          "output_type": "stream",
          "name": "stderr",
          "text": [
            "Loss: 6.082e-01 - Acc: 79.66%: 100%|██████████| 782/782 [02:50<00:00,  4.59it/s]\n",
            "Loss: 6.031e-01 - Acc: 80.36% : 100%|██████████| 157/157 [00:31<00:00,  4.92it/s]\n"
          ]
        },
        {
          "output_type": "stream",
          "name": "stdout",
          "text": [
            "Epoch   6 finished in 202.86s\n"
          ]
        },
        {
          "output_type": "stream",
          "name": "stderr",
          "text": [
            "Loss: 5.888e-01 - Acc: 80.46%: 100%|██████████| 782/782 [02:51<00:00,  4.57it/s]\n",
            "Loss: 5.924e-01 - Acc: 80.28% : 100%|██████████| 157/157 [00:31<00:00,  4.91it/s]"
          ]
        },
        {
          "output_type": "stream",
          "name": "stdout",
          "text": [
            "Epoch   7 finished in 203.31s\n"
          ]
        },
        {
          "output_type": "stream",
          "name": "stderr",
          "text": [
            "\n",
            "Loss: 5.766e-01 - Acc: 81.00%: 100%|██████████| 782/782 [02:50<00:00,  4.58it/s]\n",
            "Loss: 5.676e-01 - Acc: 81.18% : 100%|██████████| 157/157 [00:32<00:00,  4.90it/s]\n"
          ]
        },
        {
          "output_type": "stream",
          "name": "stdout",
          "text": [
            "Epoch   8 finished in 203.17s\n"
          ]
        },
        {
          "output_type": "stream",
          "name": "stderr",
          "text": [
            "Loss: 5.675e-01 - Acc: 80.92%: 100%|██████████| 782/782 [02:50<00:00,  4.59it/s]\n",
            "Loss: 5.775e-01 - Acc: 80.90% : 100%|██████████| 157/157 [00:31<00:00,  4.92it/s]"
          ]
        },
        {
          "output_type": "stream",
          "name": "stdout",
          "text": [
            "Epoch   9 finished in 202.57s\n"
          ]
        },
        {
          "output_type": "stream",
          "name": "stderr",
          "text": [
            "\n",
            "Loss: 5.569e-01 - Acc: 81.32%: 100%|██████████| 782/782 [02:50<00:00,  4.58it/s]\n",
            "Loss: 5.603e-01 - Acc: 81.19% : 100%|██████████| 157/157 [00:31<00:00,  4.92it/s]\n"
          ]
        },
        {
          "output_type": "stream",
          "name": "stdout",
          "text": [
            "Epoch  10 finished in 203.05s\n"
          ]
        },
        {
          "output_type": "stream",
          "name": "stderr",
          "text": [
            "Loss: 5.446e-01 - Acc: 81.66%: 100%|██████████| 782/782 [02:51<00:00,  4.57it/s]\n",
            "Loss: 5.598e-01 - Acc: 81.11% : 100%|██████████| 157/157 [00:32<00:00,  4.83it/s]"
          ]
        },
        {
          "output_type": "stream",
          "name": "stdout",
          "text": [
            "Epoch  11 finished in 203.98s\n"
          ]
        },
        {
          "output_type": "stream",
          "name": "stderr",
          "text": [
            "\n",
            "Loss: 5.371e-01 - Acc: 82.02%: 100%|██████████| 782/782 [02:51<00:00,  4.55it/s]\n",
            "Loss: 5.553e-01 - Acc: 81.45% : 100%|██████████| 157/157 [00:31<00:00,  4.91it/s]\n"
          ]
        },
        {
          "output_type": "stream",
          "name": "stdout",
          "text": [
            "Epoch  12 finished in 204.19s\n"
          ]
        },
        {
          "output_type": "stream",
          "name": "stderr",
          "text": [
            "Loss: 5.336e-01 - Acc: 82.07%: 100%|██████████| 782/782 [02:50<00:00,  4.58it/s]\n",
            "Loss: 5.431e-01 - Acc: 81.72% : 100%|██████████| 157/157 [00:31<00:00,  4.91it/s]\n"
          ]
        },
        {
          "output_type": "stream",
          "name": "stdout",
          "text": [
            "Epoch  13 finished in 203.33s\n"
          ]
        },
        {
          "output_type": "stream",
          "name": "stderr",
          "text": [
            "Loss: 5.273e-01 - Acc: 82.34%: 100%|██████████| 782/782 [02:51<00:00,  4.56it/s]\n",
            "Loss: 5.473e-01 - Acc: 81.65% : 100%|██████████| 157/157 [00:31<00:00,  4.91it/s]"
          ]
        },
        {
          "output_type": "stream",
          "name": "stdout",
          "text": [
            "Epoch  14 finished in 203.71s\n"
          ]
        },
        {
          "output_type": "stream",
          "name": "stderr",
          "text": [
            "\n",
            "Loss: 5.230e-01 - Acc: 82.36%: 100%|██████████| 782/782 [02:51<00:00,  4.56it/s]\n",
            "Loss: 5.433e-01 - Acc: 81.66% : 100%|██████████| 157/157 [00:31<00:00,  4.91it/s]"
          ]
        },
        {
          "output_type": "stream",
          "name": "stdout",
          "text": [
            "Epoch  15 finished in 203.48s\n"
          ]
        },
        {
          "output_type": "stream",
          "name": "stderr",
          "text": [
            "\n",
            "Loss: 5.162e-01 - Acc: 82.47%: 100%|██████████| 782/782 [02:50<00:00,  4.58it/s]\n",
            "Loss: 5.503e-01 - Acc: 81.34% : 100%|██████████| 157/157 [00:31<00:00,  4.91it/s]"
          ]
        },
        {
          "output_type": "stream",
          "name": "stdout",
          "text": [
            "Epoch  16 finished in 202.86s\n"
          ]
        },
        {
          "output_type": "stream",
          "name": "stderr",
          "text": [
            "\n",
            "Loss: 5.091e-01 - Acc: 82.93%: 100%|██████████| 782/782 [02:50<00:00,  4.58it/s]\n",
            "Loss: 5.426e-01 - Acc: 81.48% : 100%|██████████| 157/157 [00:31<00:00,  4.91it/s]"
          ]
        },
        {
          "output_type": "stream",
          "name": "stdout",
          "text": [
            "Epoch  17 finished in 202.76s\n"
          ]
        },
        {
          "output_type": "stream",
          "name": "stderr",
          "text": [
            "\n",
            "Loss: 5.058e-01 - Acc: 83.01%: 100%|██████████| 782/782 [02:50<00:00,  4.58it/s]\n",
            "Loss: 5.366e-01 - Acc: 81.92% : 100%|██████████| 157/157 [00:32<00:00,  4.82it/s]\n"
          ]
        },
        {
          "output_type": "stream",
          "name": "stdout",
          "text": [
            "Epoch  18 finished in 203.61s\n"
          ]
        },
        {
          "output_type": "stream",
          "name": "stderr",
          "text": [
            "Loss: 5.029e-01 - Acc: 82.91%: 100%|██████████| 782/782 [02:50<00:00,  4.58it/s]\n",
            "Loss: 5.370e-01 - Acc: 81.66% : 100%|██████████| 157/157 [00:31<00:00,  4.91it/s]"
          ]
        },
        {
          "output_type": "stream",
          "name": "stdout",
          "text": [
            "Epoch  19 finished in 202.95s\n"
          ]
        },
        {
          "output_type": "stream",
          "name": "stderr",
          "text": [
            "\n",
            "Loss: 4.964e-01 - Acc: 83.18%: 100%|██████████| 782/782 [02:50<00:00,  4.58it/s]\n",
            "Loss: 5.364e-01 - Acc: 81.91% : 100%|██████████| 157/157 [00:31<00:00,  4.91it/s]\n"
          ]
        },
        {
          "output_type": "stream",
          "name": "stdout",
          "text": [
            "Epoch  20 finished in 202.73s\n"
          ]
        },
        {
          "output_type": "display_data",
          "data": {
            "text/plain": [
              "<Figure size 432x288 with 1 Axes>"
            ],
            "image/png": "[encoded data removed]"
          },
          "metadata": {
            "needs_background": "light"
          }
        },
        {
          "output_type": "display_data",
          "data": {
            "text/plain": [
              "<Figure size 432x288 with 1 Axes>"
            ],
            "image/png": "[encoded data removed]"
          },
          "metadata": {
            "needs_background": "light"
          }
        },
        {
          "output_type": "stream",
          "name": "stdout",
          "text": [
            "Best Accuracy :81.92%\n"
          ]
        }
      ]
    },
    {
      "cell_type": "markdown",
      "source": [
        "I could not catch an accuracy of more than 81 percent in this part.\n",
        "It can be because of the stability of CNN parameters and just changing the last fully connected layer. It ran in 20 epochs, batch size 64, and learning rate 2e-4. The results are shown above.\n",
        "The best model has been saved in the \"Resnet50_Cifar10_lastlayer.pth\" file"
      ],
      "metadata": {
        "id": "QH6o2q2iG5O7"
      }
    },
    {
      "cell_type": "markdown",
      "source": [
        "# **B- Train ResNet18 on CIFAR-10 with ResNet50 teacher**"
      ],
      "metadata": {
        "id": "aD4suTpEsAgO"
      }
    },
    {
      "cell_type": "markdown",
      "source": [
        "Define Train and loss function"
      ],
      "metadata": {
        "id": "9757K4GtUgZh"
      }
    },
    {
      "cell_type": "code",
      "source": [
        "def train_epoch_with_teacher(alpha,taw,student: nn.Module,teacher: nn.Module, criterion: nn.Module, optimizer: torch.optim.Optimizer, dataloader: torch.utils.data.DataLoader,   accs_train ,loss_train):\n",
        "\n",
        "    epoch_loss = 0\n",
        "    epoch_true = 0\n",
        "    epoch_all = 0\n",
        "    i = 0\n",
        "\n",
        "    student.train()\n",
        "    optimizer.zero_grad()\n",
        "    m = nn.Softmax(dim=1)\n",
        "    with tqdm(enumerate(dataloader), total=len(dataloader)) as pbar:\n",
        "        for i, (x, y) in pbar: \n",
        "            x = x.to(device)  \n",
        "            y = y.to(device)\n",
        "\n",
        "            prediction_student = student(x)\n",
        "            prediction_teacher = teacher(x)\n",
        "\n",
        "            soft_student_1 = m(prediction_student) \n",
        "            soft_student_t = m(prediction_student.divide(taw)) \n",
        "            soft_teacher = m(prediction_teacher.divide(taw)) \n",
        "\n",
        "            loss1 = criterion(soft_student_1, y)\n",
        "            loss2 = criterion(soft_student_t, soft_teacher)\n",
        "\n",
        "            loss = loss1.multiply(1-alpha)+loss2.multiply(alpha)\n",
        "\n",
        "            epoch_loss += float(loss)\n",
        "            predictions = prediction_student.argmax(-1)\n",
        "            epoch_all += len(predictions)\n",
        "            epoch_true += (predictions == y).sum()\n",
        "            pbar.set_description(f'Loss: {epoch_loss / (i + 1):.3e} - Acc: {epoch_true * 100. / epoch_all:.2f}%')\n",
        "            loss.backward()\n",
        "            optimizer.step()\n",
        "            optimizer.zero_grad()\n",
        "          \n",
        "        accs_train.append(float(epoch_true / epoch_all))\n",
        "        loss_train.append(float(epoch_loss / (i + 1)))\n",
        "    return accs_train,loss_train\n",
        "\n",
        "def eval_epoch_with_teacher(alpha,taw,student: nn.Module,teacher: nn.Module, criterion: nn.Module, dataloader: torch.utils.data.DataLoader,    accs_test ,loss_test ):\n",
        "\n",
        "    epoch_loss = 0\n",
        "    epoch_true = 0\n",
        "    epoch_true_topfive = 0\n",
        "    epoch_all = 0\n",
        "    i = 0\n",
        "    m = nn.Softmax(dim=1)\n",
        "    student.eval()\n",
        "\n",
        "    with torch.no_grad(), tqdm(enumerate(dataloader), total=len(dataloader)) as pbar:\n",
        "        for i, (x, y) in pbar:\n",
        "            x = x.to(device)\n",
        "            y = y.to(device)\n",
        "\n",
        "            prediction_student = student(x)\n",
        "            prediction_teacher = teacher(x)\n",
        "\n",
        "            soft_student_1 = m(prediction_student) \n",
        "            soft_student_t = m(prediction_student.divide(taw)) \n",
        "            soft_teacher = m(prediction_teacher.divide(taw)) \n",
        "\n",
        "            loss1 = criterion(soft_student_1, y)\n",
        "            loss2 = criterion(soft_student_t, soft_teacher)\n",
        "\n",
        "            loss = loss1.multiply(1-alpha)+loss2.multiply(alpha)\n",
        "\n",
        "            epoch_loss += float(loss)\n",
        "\n",
        "            # predict \n",
        "            predictions = soft_student_1.argmax(-1)\n",
        "            epoch_all += len(predictions)\n",
        "            epoch_true += (predictions == y).sum()\n",
        "\n",
        "            pbar.set_description(f'Loss: {epoch_loss / (i + 1):.3e} - Acc: {epoch_true * 100. / epoch_all:.2f}% ')\n",
        "\n",
        "        accs_test.append(float(epoch_true / epoch_all))\n",
        "        loss_test.append(float(epoch_loss / (i + 1)))\n",
        "    return accs_test,loss_test"
      ],
      "metadata": {
        "id": "MIgLtTXs-Os1"
      },
      "execution_count": null,
      "outputs": []
    },
    {
      "cell_type": "markdown",
      "source": [
        "Define Layers and set hyperparameters, then run code"
      ],
      "metadata": {
        "id": "KElFr8vVUlcn"
      }
    },
    {
      "cell_type": "code",
      "source": [
        "if B:  \n",
        "  class lastLayer(nn.Module):\n",
        "      def __init__(self, pretrained):\n",
        "          super(lastLayer, self).__init__()\n",
        "          self.pretrained = pretrained\n",
        "          self.last = nn.Sequential(\n",
        "              nn.Linear(2048, 10))\n",
        "      \n",
        "      def forward(self, x):\n",
        "          x = self.pretrained(x)\n",
        "          x = self.last(x)\n",
        "          return x\n",
        "\n",
        "  teacher = resnet50()\n",
        "  teacher.fc = nn.Sequential()\n",
        "  teacher = lastLayer(teacher).to(device)\n",
        "  teacher.load_state_dict(torch.load(\"Resnet50_Cifar10_lastlayer.pth\"),strict = False)\n",
        "  teacher.eval()\n",
        "\n",
        "  class lastLayer(nn.Module):\n",
        "      def __init__(self, pretrained):\n",
        "          super(lastLayer, self).__init__()\n",
        "          self.pretrained = pretrained\n",
        "          self.last = nn.Sequential(\n",
        "              nn.Linear(512, 10))\n",
        "      \n",
        "      def forward(self, x):\n",
        "          x = self.pretrained(x)\n",
        "          x = self.last(x)\n",
        "          return x\n",
        "\n",
        "\n",
        "\n",
        "  student = resnet18()\n",
        "  student.fc = nn.Sequential()\n",
        "\n",
        "  student = lastLayer(student).to(device)\n",
        "\n",
        "  criterion = nn.CrossEntropyLoss().to(device)\n",
        "\n",
        "  params_to_update = []\n",
        "  for name,param in student.named_parameters():\n",
        "      if param.requires_grad == True:\n",
        "          params_to_update.append(param)\n",
        "\n",
        "  optimizer = torch.optim.RMSprop(params_to_update, lr=1e-4)\n",
        "  alpha = 0.9\n",
        "  taw  = 4\n",
        "  epochs = 10\n",
        "  from time import time\n",
        "  accs_train = []\n",
        "  loss_train = []\n",
        "  accs_test = []\n",
        "  loss_test = []\n",
        "  for e in range(epochs):\n",
        "      start_time = time()\n",
        "      accs_train,loss_train = train_epoch_with_teacher(alpha,taw,student,teacher, criterion, optimizer, train_loader,accs_train,loss_train)\n",
        "      accs_test,loss_test = eval_epoch_with_teacher(alpha,taw,student,teacher, criterion, test_loader,accs_test,loss_test)\n",
        "      if accs_test[-1]==max(accs_test):\n",
        "        torch.save(student.state_dict(), 'Resnet18_Cifar10_KD.pth')\n",
        "      end_time = time()\n",
        "\n",
        "      print(f'Epoch {e+1:3} finished in {end_time - start_time:.2f}s')\n",
        "\n",
        "  plt.plot(np.array(loss_test), 'r')\n",
        "  plt.plot(np.array(loss_train), 'b')\n",
        "  plt.title('Model loss')\n",
        "  plt.ylabel('Loss')\n",
        "  plt.xlabel('Epoch')\n",
        "  plt.legend(['Test', 'Train'])\n",
        "  plt.savefig('loss4.jpg')\n",
        "  plt.show()\n",
        "\n",
        "  plt.plot(np.array(accs_test), 'r')\n",
        "  plt.plot(np.array(accs_train), 'b')\n",
        "  plt.title('Model Accuracy')\n",
        "  plt.ylabel('Accuracy')\n",
        "  plt.xlabel('Epoch')\n",
        "  plt.legend(['Test', 'Train'])\n",
        "  plt.savefig('acc4.jpg')\n",
        "  plt.show()\n",
        "  #Nima is fucking hot\n",
        "  #Nima is sexy\n",
        "  #Love U Nima\n",
        "  \n",
        "\n",
        "  print(f'Best Accuracy :{max(accs_test) * 100.:.2f}%')"
      ],
      "metadata": {
        "colab": {
          "base_uri": "https://localhost:8080/",
          "height": 1000
        },
        "id": "NRse_Rv89sdN",
        "outputId": "8a68d7a2-71a8-4186-aa8e-d9480d00cbf3"
      },
      "execution_count": null,
      "outputs": [
        {
          "metadata": {
            "tags": null
          },
          "name": "stderr",
          "output_type": "stream",
          "text": [
            "Loss: 2.188e+00 - Acc: 47.70%: 100%|██████████| 782/782 [09:56<00:00,  1.31it/s]\n",
            "Loss: 2.170e+00 - Acc: 52.80% : 100%|██████████| 157/157 [00:39<00:00,  3.93it/s]\n"
          ]
        },
        {
          "metadata": {
            "tags": null
          },
          "name": "stdout",
          "output_type": "stream",
          "text": [
            "Epoch   1 finished in 636.92s\n"
          ]
        },
        {
          "metadata": {
            "tags": null
          },
          "name": "stderr",
          "output_type": "stream",
          "text": [
            "Loss: 2.143e+00 - Acc: 62.50%: 100%|██████████| 782/782 [09:56<00:00,  1.31it/s]\n",
            "Loss: 2.175e+00 - Acc: 51.69% : 100%|██████████| 157/157 [00:40<00:00,  3.92it/s]"
          ]
        },
        {
          "metadata": {
            "tags": null
          },
          "name": "stdout",
          "output_type": "stream",
          "text": [
            "Epoch   2 finished in 636.77s\n"
          ]
        },
        {
          "metadata": {
            "tags": null
          },
          "name": "stderr",
          "output_type": "stream",
          "text": [
            "\n",
            "Loss: 2.129e+00 - Acc: 67.68%: 100%|██████████| 782/782 [09:56<00:00,  1.31it/s]\n",
            "Loss: 2.152e+00 - Acc: 60.22% : 100%|██████████| 157/157 [00:39<00:00,  3.93it/s]\n"
          ]
        },
        {
          "metadata": {
            "tags": null
          },
          "name": "stdout",
          "output_type": "stream",
          "text": [
            "Epoch   3 finished in 636.59s\n"
          ]
        },
        {
          "metadata": {
            "tags": null
          },
          "name": "stderr",
          "output_type": "stream",
          "text": [
            "Loss: 2.119e+00 - Acc: 71.39%: 100%|██████████| 782/782 [09:55<00:00,  1.31it/s]\n",
            "Loss: 2.136e+00 - Acc: 64.84% : 100%|██████████| 157/157 [00:39<00:00,  3.93it/s]\n"
          ]
        },
        {
          "metadata": {
            "tags": null
          },
          "name": "stdout",
          "output_type": "stream",
          "text": [
            "Epoch   4 finished in 636.00s\n"
          ]
        },
        {
          "metadata": {
            "tags": null
          },
          "name": "stderr",
          "output_type": "stream",
          "text": [
            "Loss: 2.112e+00 - Acc: 74.55%: 100%|██████████| 782/782 [09:56<00:00,  1.31it/s]\n",
            "Loss: 2.193e+00 - Acc: 47.96% : 100%|██████████| 157/157 [00:40<00:00,  3.92it/s]"
          ]
        },
        {
          "metadata": {
            "tags": null
          },
          "name": "stdout",
          "output_type": "stream",
          "text": [
            "Epoch   5 finished in 636.52s\n"
          ]
        },
        {
          "metadata": {
            "tags": null
          },
          "name": "stderr",
          "output_type": "stream",
          "text": [
            "\n",
            "Loss: 2.107e+00 - Acc: 77.19%: 100%|██████████| 782/782 [09:55<00:00,  1.31it/s]\n",
            "Loss: 2.128e+00 - Acc: 68.70% : 100%|██████████| 157/157 [00:40<00:00,  3.92it/s]\n"
          ]
        },
        {
          "metadata": {
            "tags": null
          },
          "name": "stdout",
          "output_type": "stream",
          "text": [
            "Epoch   6 finished in 636.25s\n"
          ]
        },
        {
          "metadata": {
            "tags": null
          },
          "name": "stderr",
          "output_type": "stream",
          "text": [
            "Loss: 2.103e+00 - Acc: 78.70%: 100%|██████████| 782/782 [09:56<00:00,  1.31it/s]\n",
            "Loss: 2.124e+00 - Acc: 71.09% : 100%|██████████| 157/157 [00:40<00:00,  3.89it/s]\n"
          ]
        },
        {
          "metadata": {
            "tags": null
          },
          "name": "stdout",
          "output_type": "stream",
          "text": [
            "Epoch   7 finished in 637.32s\n"
          ]
        },
        {
          "metadata": {
            "tags": null
          },
          "name": "stderr",
          "output_type": "stream",
          "text": [
            "Loss: 2.100e+00 - Acc: 80.19%: 100%|██████████| 782/782 [09:56<00:00,  1.31it/s]\n",
            "Loss: 2.168e+00 - Acc: 57.08% : 100%|██████████| 157/157 [00:39<00:00,  3.94it/s]"
          ]
        },
        {
          "metadata": {
            "tags": null
          },
          "name": "stdout",
          "output_type": "stream",
          "text": [
            "Epoch   8 finished in 636.66s\n"
          ]
        },
        {
          "metadata": {
            "tags": null
          },
          "name": "stderr",
          "output_type": "stream",
          "text": [
            "\n",
            "Loss: 2.098e+00 - Acc: 81.53%: 100%|██████████| 782/782 [09:56<00:00,  1.31it/s]\n",
            "Loss: 2.193e+00 - Acc: 49.97% : 100%|██████████| 157/157 [00:39<00:00,  3.94it/s]"
          ]
        },
        {
          "metadata": {
            "tags": null
          },
          "name": "stdout",
          "output_type": "stream",
          "text": [
            "Epoch   9 finished in 636.52s\n"
          ]
        },
        {
          "output_type": "stream",
          "name": "stderr",
          "text": [
            "\n",
            "Loss: 2.096e+00 - Acc: 82.27%: 100%|██████████| 782/782 [09:56<00:00,  1.31it/s]\n",
            "Loss: 2.110e+00 - Acc: 77.38% : 100%|██████████| 157/157 [00:40<00:00,  3.92it/s]\n"
          ]
        },
        {
          "output_type": "stream",
          "name": "stdout",
          "text": [
            "Epoch  10 finished in 636.88s\n"
          ]
        },
        {
          "output_type": "display_data",
          "data": {
            "text/plain": [
              "<Figure size 432x288 with 1 Axes>"
            ],
            "image/png": "[encoded data removed]"
          },
          "metadata": {
            "needs_background": "light"
          }
        },
        {
          "output_type": "display_data",
          "data": {
            "text/plain": [
              "<Figure size 432x288 with 1 Axes>"
            ],
            "image/png": "[encoded data removed]"
          },
          "metadata": {
            "needs_background": "light"
          }
        },
        {
          "output_type": "stream",
          "name": "stdout",
          "text": [
            "Best Accuracy :77.38%\n"
          ]
        }
      ]
    },
    {
      "cell_type": "markdown",
      "source": [
        "In the B part, we use the teacher to train and get a maximum of 77% accuracy in 10 epochs. Training this model was very time-wasting, and we could only run this in a few epochs. Alpha here was 0.9, t was 4, and the learning rate was 1e-4 with the RMSProp optimization algorithm. The best model has been saved in the 'Resnet18_Cifar10_KD.pth' file."
      ],
      "metadata": {
        "id": "yL1NZavwQ0oM"
      }
    },
    {
      "cell_type": "markdown",
      "source": [
        "# **C- Train ResNet18 on CIFAR-10 without teacher**"
      ],
      "metadata": {
        "id": "iv6X4lXw9o3b"
      }
    },
    {
      "cell_type": "markdown",
      "source": [
        "Define particular train and eval functions"
      ],
      "metadata": {
        "id": "C_0wNbzSVdqP"
      }
    },
    {
      "cell_type": "code",
      "source": [
        "def train_epoch_without_teacher(net: nn.Module, criterion: nn.Module, optimizer: torch.optim.Optimizer, dataloader: torch.utils.data.DataLoader,   accs_train ,loss_train):\n",
        "\n",
        "    epoch_loss = 0\n",
        "    epoch_true = 0\n",
        "    epoch_all = 0\n",
        "    i = 0\n",
        "\n",
        "    net.train()\n",
        "    optimizer.zero_grad()\n",
        "    m = nn.Softmax(dim=1)\n",
        "    with tqdm(enumerate(dataloader), total=len(dataloader)) as pbar:\n",
        "        for i, (x, y) in pbar: \n",
        "            x = x.to(device)  \n",
        "            y = y.to(device)\n",
        "            p = m(net(x))\n",
        "            loss = criterion(p, y)\n",
        "            epoch_loss += float(loss)\n",
        "            predictions = p.argmax(-1)\n",
        "            epoch_all += len(predictions)\n",
        "            epoch_true += (predictions == y).sum()\n",
        "            pbar.set_description(f'Loss: {epoch_loss / (i + 1):.3e} - Acc: {epoch_true * 100. / epoch_all:.2f}%')\n",
        "            loss.backward()\n",
        "            optimizer.step()\n",
        "            optimizer.zero_grad()\n",
        "          \n",
        "        accs_train.append(float(epoch_true / epoch_all))\n",
        "        loss_train.append(float(epoch_loss / (i + 1)))\n",
        "    return accs_train,loss_train"
      ],
      "metadata": {
        "id": "_JKBYG5OBGa5"
      },
      "execution_count": null,
      "outputs": []
    },
    {
      "cell_type": "markdown",
      "source": [
        "Run C part"
      ],
      "metadata": {
        "id": "aXygIefsVrc_"
      }
    },
    {
      "cell_type": "code",
      "source": [
        "if C:\n",
        "  class lastLayer(nn.Module):\n",
        "      def __init__(self, pretrained):\n",
        "          super(lastLayer, self).__init__()\n",
        "          self.pretrained = pretrained\n",
        "          self.last = nn.Sequential(\n",
        "              nn.Linear(2048, 10))\n",
        "      \n",
        "      def forward(self, x):\n",
        "          x = self.pretrained(x)\n",
        "          x = self.last(x)\n",
        "          return x\n",
        "\n",
        "  teacher = resnet50()\n",
        "  teacher.fc = nn.Sequential()\n",
        "  teacher = lastLayer(teacher).to(device)\n",
        "  teacher.load_state_dict(torch.load(\"Resnet50_Cifar10_lastlayer.pth\"),strict = False)\n",
        "  teacher.eval()\n",
        "\n",
        "  class lastLayer(nn.Module):\n",
        "      def __init__(self, pretrained):\n",
        "          super(lastLayer, self).__init__()\n",
        "          self.pretrained = pretrained\n",
        "          self.last = nn.Sequential(\n",
        "              nn.Linear(512, 10))\n",
        "      \n",
        "      def forward(self, x):\n",
        "          x = self.pretrained(x)\n",
        "          x = self.last(x)\n",
        "          return x\n",
        "\n",
        "\n",
        "\n",
        "  student = resnet18()\n",
        "  student.fc = nn.Sequential()\n",
        "\n",
        "  student = lastLayer(student).to(device)\n",
        "\n",
        "  criterion = nn.CrossEntropyLoss().to(device)\n",
        "\n",
        "  params_to_update = []\n",
        "  for name,param in student.named_parameters():\n",
        "      if param.requires_grad == True:\n",
        "          params_to_update.append(param)\n",
        "\n",
        "  optimizer = torch.optim.RMSprop(params_to_update, lr=1e-4)\n",
        "\n",
        "  epochs = 10\n",
        "  from time import time\n",
        "  accs_train = []\n",
        "  loss_train = []\n",
        "  accs_test = []\n",
        "  loss_test = []\n",
        "  for e in range(epochs):\n",
        "      start_time = time()\n",
        "      accs_train,loss_train = train_epoch_without_teacher(student, criterion, optimizer, train_loader,accs_train,loss_train)\n",
        "      accs_test,loss_test = eval_epoch(student, criterion, test_loader,accs_test,loss_test)\n",
        "      if accs_test[-1]==max(accs_test):\n",
        "        torch.save(student.state_dict(), 'Resnet18_Cifar10_no_teacher.pth')\n",
        "      end_time = time()\n",
        "\n",
        "      print(f'Epoch {e+1:3} finished in {end_time - start_time:.2f}s')\n",
        "\n",
        "  plt.plot(np.array(loss_test), 'r')\n",
        "  plt.plot(np.array(loss_train), 'b')\n",
        "  plt.title('Model loss')\n",
        "  plt.ylabel('Loss')\n",
        "  plt.xlabel('Epoch')\n",
        "  plt.legend(['Test', 'Train'])\n",
        "  plt.savefig('loss4.jpg')\n",
        "  plt.show()\n",
        "\n",
        "  plt.plot(np.array(accs_test), 'r')\n",
        "  plt.plot(np.array(accs_train), 'b')\n",
        "  plt.title('Model Accuracy')\n",
        "  plt.ylabel('Accuracy')\n",
        "  plt.xlabel('Epoch')\n",
        "  plt.legend(['Test', 'Train'])\n",
        "  plt.savefig('acc4.jpg')\n",
        "  plt.show()\n",
        "\n",
        "\n",
        "  print(f'Best Accuracy :{max(accs_test) * 100.:.2f}%')"
      ],
      "metadata": {
        "colab": {
          "base_uri": "https://localhost:8080/",
          "height": 1000
        },
        "id": "MNJyN9BZsM2w",
        "outputId": "c6676710-6bf1-47bb-cef2-76626a88f3ee"
      },
      "execution_count": null,
      "outputs": [
        {
          "output_type": "stream",
          "name": "stderr",
          "text": [
            "Loss: 2.016e+00 - Acc: 44.62%: 100%|██████████| 782/782 [02:27<00:00,  5.30it/s]\n",
            "Loss: 4.519e+00 - Acc: 45.72% : 100%|██████████| 157/157 [00:16<00:00,  9.53it/s]\n"
          ]
        },
        {
          "output_type": "stream",
          "name": "stdout",
          "text": [
            "Epoch   1 finished in 164.57s\n"
          ]
        },
        {
          "output_type": "stream",
          "name": "stderr",
          "text": [
            "Loss: 1.864e+00 - Acc: 60.49%: 100%|██████████| 782/782 [02:26<00:00,  5.33it/s]\n",
            "Loss: 4.154e+00 - Acc: 40.76% : 100%|██████████| 157/157 [00:17<00:00,  9.05it/s]"
          ]
        },
        {
          "output_type": "stream",
          "name": "stdout",
          "text": [
            "Epoch   2 finished in 164.28s\n"
          ]
        },
        {
          "output_type": "stream",
          "name": "stderr",
          "text": [
            "\n",
            "Loss: 1.795e+00 - Acc: 67.23%: 100%|██████████| 782/782 [02:26<00:00,  5.33it/s]\n",
            "Loss: 4.535e+00 - Acc: 39.57% : 100%|██████████| 157/157 [00:16<00:00,  9.65it/s]"
          ]
        },
        {
          "output_type": "stream",
          "name": "stdout",
          "text": [
            "Epoch   3 finished in 163.33s\n"
          ]
        },
        {
          "output_type": "stream",
          "name": "stderr",
          "text": [
            "\n",
            "Loss: 1.747e+00 - Acc: 72.20%: 100%|██████████| 782/782 [02:27<00:00,  5.31it/s]\n",
            "Loss: 1.821e+00 - Acc: 62.74% : 100%|██████████| 157/157 [00:15<00:00,  9.90it/s]\n"
          ]
        },
        {
          "output_type": "stream",
          "name": "stdout",
          "text": [
            "Epoch   4 finished in 163.44s\n"
          ]
        },
        {
          "output_type": "stream",
          "name": "stderr",
          "text": [
            "Loss: 1.715e+00 - Acc: 75.37%: 100%|██████████| 782/782 [02:27<00:00,  5.30it/s]\n",
            "Loss: 2.466e+00 - Acc: 56.17% : 100%|██████████| 157/157 [00:16<00:00,  9.53it/s]"
          ]
        },
        {
          "output_type": "stream",
          "name": "stdout",
          "text": [
            "Epoch   5 finished in 164.14s\n"
          ]
        },
        {
          "output_type": "stream",
          "name": "stderr",
          "text": [
            "\n",
            "Loss: 1.686e+00 - Acc: 78.22%: 100%|██████████| 782/782 [02:27<00:00,  5.31it/s]\n",
            "Loss: 2.315e+00 - Acc: 62.78% : 100%|██████████| 157/157 [00:16<00:00,  9.75it/s]\n"
          ]
        },
        {
          "output_type": "stream",
          "name": "stdout",
          "text": [
            "Epoch   6 finished in 163.83s\n"
          ]
        },
        {
          "output_type": "stream",
          "name": "stderr",
          "text": [
            "Loss: 1.667e+00 - Acc: 80.12%: 100%|██████████| 782/782 [02:27<00:00,  5.30it/s]\n",
            "Loss: 1.469e+00 - Acc: 71.98% : 100%|██████████| 157/157 [00:16<00:00,  9.65it/s]\n"
          ]
        },
        {
          "output_type": "stream",
          "name": "stdout",
          "text": [
            "Epoch   7 finished in 164.10s\n"
          ]
        },
        {
          "output_type": "stream",
          "name": "stderr",
          "text": [
            "Loss: 1.647e+00 - Acc: 82.01%: 100%|██████████| 782/782 [02:27<00:00,  5.31it/s]\n",
            "Loss: 2.947e+00 - Acc: 62.94% : 100%|██████████| 157/157 [00:16<00:00,  9.75it/s]"
          ]
        },
        {
          "output_type": "stream",
          "name": "stdout",
          "text": [
            "Epoch   8 finished in 163.64s\n"
          ]
        },
        {
          "output_type": "stream",
          "name": "stderr",
          "text": [
            "\n",
            "Loss: 1.635e+00 - Acc: 83.24%: 100%|██████████| 782/782 [02:27<00:00,  5.31it/s]\n",
            "Loss: 1.129e+00 - Acc: 76.06% : 100%|██████████| 157/157 [00:16<00:00,  9.59it/s]\n"
          ]
        },
        {
          "output_type": "stream",
          "name": "stdout",
          "text": [
            "Epoch   9 finished in 164.07s\n"
          ]
        },
        {
          "output_type": "stream",
          "name": "stderr",
          "text": [
            "Loss: 1.622e+00 - Acc: 84.50%: 100%|██████████| 782/782 [02:27<00:00,  5.30it/s]\n",
            "Loss: 1.455e+00 - Acc: 72.92% : 100%|██████████| 157/157 [00:16<00:00,  9.47it/s]\n"
          ]
        },
        {
          "output_type": "stream",
          "name": "stdout",
          "text": [
            "Epoch  10 finished in 164.26s\n"
          ]
        },
        {
          "output_type": "display_data",
          "data": {
            "text/plain": [
              "<Figure size 432x288 with 1 Axes>"
            ],
            "image/png": "[encoded data removed]"
          },
          "metadata": {
            "needs_background": "light"
          }
        },
        {
          "output_type": "display_data",
          "data": {
            "text/plain": [
              "<Figure size 432x288 with 1 Axes>"
            ],
            "image/png": "[encoded data removed]"
          },
          "metadata": {
            "needs_background": "light"
          }
        },
        {
          "output_type": "stream",
          "name": "stdout",
          "text": [
            "Best Accuracy :76.06%\n"
          ]
        }
      ]
    },
    {
      "cell_type": "markdown",
      "source": [
        "The general growth of training, In the C part, is slower than in the B part. The best accuracy in the B part is better than in the C part. Nevertheless, parts B and C will have many differences; unfortunately, we can not train more epochs because of hardware limits.\n",
        "The main reason for the difference between these two models is their different loss functions. In the B part, we have a regularization term introduced before. This term, combined with direct loss, allows our model to avoid some events, such as noise or outlier data, during the training process.\n",
        "With this solution, we can get a better result in small models by this term. In fact, this term causes approximation between teacher and student models. The best model has been saved in the 'Resnet18_Cifar10_no_teacher.pth' file."
      ],
      "metadata": {
        "id": "K_p3fNaDRX7E"
      }
    },
    {
      "cell_type": "markdown",
      "source": [
        "# **D- Train whole ResNet50 (all weights) on CIFAR10**"
      ],
      "metadata": {
        "id": "fPH019vLPGtT"
      }
    },
    {
      "cell_type": "code",
      "source": [
        "if D:  \n",
        "  accs = []\n",
        "\n",
        "  class lastLayer(nn.Module):\n",
        "      def __init__(self, pretrained):\n",
        "          super(lastLayer, self).__init__()\n",
        "          self.pretrained = pretrained\n",
        "          self.last = nn.Sequential(\n",
        "              #nn.ReLU(inplace=True),\n",
        "              nn.Linear(2048, 10))\n",
        "      \n",
        "      def forward(self, x):\n",
        "          x = self.pretrained(x)\n",
        "          x = self.last(x)\n",
        "          return x\n",
        "\n",
        "\n",
        "  from torchvision.models import resnet50, ResNet50_Weights\n",
        "  weights = ResNet50_Weights.DEFAULT\n",
        "  net = resnet50(weights=ResNet50_Weights.IMAGENET1K_V2)\n",
        "  net.fc = nn.Sequential()\n",
        "\n",
        "  net = lastLayer(net).to(device)\n",
        "\n",
        "  criterion = nn.CrossEntropyLoss().to(device)\n",
        "\n",
        "  optimizer = torch.optim.RMSprop(net.parameters(), lr=2e-4)\n",
        "\n",
        "  epochs = 10\n",
        "  from time import time\n",
        "  accs_train = []\n",
        "  loss_train = []\n",
        "  accs_test = []\n",
        "  loss_test = []\n",
        "  for e in range(epochs):\n",
        "      start_time = time()\n",
        "      accs_train,loss_train = train_epoch(net, criterion, optimizer, train_loader,accs_train,loss_train)\n",
        "      accs_test,loss_test = eval_epoch(net, criterion, test_loader,accs_test,loss_test)\n",
        "      if accs_test[-1]==max(accs_test):\n",
        "        torch.save(net.state_dict(), 'Resnet50_Cifar10_full.pth')\n",
        "      end_time = time()\n",
        "\n",
        "      print(f'Epoch {e+1:3} finished in {end_time - start_time:.2f}s')\n",
        "\n",
        "  plt.plot(np.array(loss_test), 'r')\n",
        "  plt.plot(np.array(loss_train), 'b')\n",
        "  plt.title('Model loss')\n",
        "  plt.ylabel('Loss')\n",
        "  plt.xlabel('Epoch')\n",
        "  plt.legend(['Test', 'Train'])\n",
        "  plt.savefig('loss4.jpg')\n",
        "  plt.show()\n",
        "\n",
        "  plt.plot(np.array(accs_test), 'r')\n",
        "  plt.plot(np.array(accs_train), 'b')\n",
        "  plt.title('Model Accuracy')\n",
        "  plt.ylabel('Accuracy')\n",
        "  plt.xlabel('Epoch')\n",
        "  plt.legend(['Test', 'Train'])\n",
        "  plt.savefig('acc4.jpg')\n",
        "  plt.show()\n",
        "\n",
        "\n",
        "  print(f'Best Accuracy :{max(accs_test) * 100.:.2f}%')"
      ],
      "metadata": {
        "id": "Lqb0d15DPPSe",
        "colab": {
          "base_uri": "https://localhost:8080/",
          "height": 1000
        },
        "outputId": "207db595-5334-44fd-a01d-3a1639992a88"
      },
      "execution_count": 13,
      "outputs": [
        {
          "output_type": "stream",
          "name": "stderr",
          "text": [
            "Loss: 3.033e-01 - Acc: 89.94%: 100%|██████████| 782/782 [08:13<00:00,  1.58it/s]\n",
            "Loss: 2.722e-01 - Acc: 90.75% : 100%|██████████| 157/157 [00:31<00:00,  4.91it/s]\n"
          ]
        },
        {
          "output_type": "stream",
          "name": "stdout",
          "text": [
            "Epoch   1 finished in 529.48s\n"
          ]
        },
        {
          "output_type": "stream",
          "name": "stderr",
          "text": [
            "Loss: 1.367e-01 - Acc: 95.38%: 100%|██████████| 782/782 [08:13<00:00,  1.58it/s]\n",
            "Loss: 2.684e-01 - Acc: 91.64% : 100%|██████████| 157/157 [00:32<00:00,  4.90it/s]\n"
          ]
        },
        {
          "output_type": "stream",
          "name": "stdout",
          "text": [
            "Epoch   2 finished in 526.10s\n"
          ]
        },
        {
          "output_type": "stream",
          "name": "stderr",
          "text": [
            "Loss: 9.667e-02 - Acc: 96.70%: 100%|██████████| 782/782 [08:13<00:00,  1.58it/s]\n",
            "Loss: 1.692e-01 - Acc: 94.45% : 100%|██████████| 157/157 [00:32<00:00,  4.85it/s]\n"
          ]
        },
        {
          "output_type": "stream",
          "name": "stdout",
          "text": [
            "Epoch   3 finished in 526.33s\n"
          ]
        },
        {
          "output_type": "stream",
          "name": "stderr",
          "text": [
            "Loss: 7.500e-02 - Acc: 97.41%: 100%|██████████| 782/782 [08:13<00:00,  1.58it/s]\n",
            "Loss: 1.542e-01 - Acc: 95.22% : 100%|██████████| 157/157 [00:32<00:00,  4.90it/s]\n"
          ]
        },
        {
          "output_type": "stream",
          "name": "stdout",
          "text": [
            "Epoch   4 finished in 525.98s\n"
          ]
        },
        {
          "output_type": "stream",
          "name": "stderr",
          "text": [
            "Loss: 5.856e-02 - Acc: 98.05%: 100%|██████████| 782/782 [08:13<00:00,  1.59it/s]\n",
            "Loss: 1.739e-01 - Acc: 94.74% : 100%|██████████| 157/157 [00:32<00:00,  4.83it/s]"
          ]
        },
        {
          "output_type": "stream",
          "name": "stdout",
          "text": [
            "Epoch   5 finished in 525.90s\n"
          ]
        },
        {
          "output_type": "stream",
          "name": "stderr",
          "text": [
            "\n",
            "Loss: 4.934e-02 - Acc: 98.29%: 100%|██████████| 782/782 [08:13<00:00,  1.59it/s]\n",
            "Loss: 1.596e-01 - Acc: 95.44% : 100%|██████████| 157/157 [00:31<00:00,  4.92it/s]\n"
          ]
        },
        {
          "output_type": "stream",
          "name": "stdout",
          "text": [
            "Epoch   6 finished in 525.61s\n"
          ]
        },
        {
          "output_type": "stream",
          "name": "stderr",
          "text": [
            "Loss: 4.281e-02 - Acc: 98.56%: 100%|██████████| 782/782 [08:13<00:00,  1.58it/s]\n",
            "Loss: 1.658e-01 - Acc: 95.31% : 100%|██████████| 157/157 [00:32<00:00,  4.86it/s]"
          ]
        },
        {
          "output_type": "stream",
          "name": "stdout",
          "text": [
            "Epoch   7 finished in 526.08s\n"
          ]
        },
        {
          "output_type": "stream",
          "name": "stderr",
          "text": [
            "\n",
            "Loss: 4.042e-02 - Acc: 98.63%: 100%|██████████| 782/782 [08:13<00:00,  1.59it/s]\n",
            "Loss: 3.693e-01 - Acc: 91.36% : 100%|██████████| 157/157 [00:31<00:00,  4.91it/s]"
          ]
        },
        {
          "output_type": "stream",
          "name": "stdout",
          "text": [
            "Epoch   8 finished in 525.53s\n"
          ]
        },
        {
          "output_type": "stream",
          "name": "stderr",
          "text": [
            "\n",
            "Loss: 3.489e-02 - Acc: 98.88%: 100%|██████████| 782/782 [08:13<00:00,  1.58it/s]\n",
            "Loss: 1.845e-01 - Acc: 94.85% : 100%|██████████| 157/157 [00:31<00:00,  4.93it/s]"
          ]
        },
        {
          "output_type": "stream",
          "name": "stdout",
          "text": [
            "Epoch   9 finished in 525.78s\n"
          ]
        },
        {
          "output_type": "stream",
          "name": "stderr",
          "text": [
            "\n",
            "Loss: 3.137e-02 - Acc: 98.93%: 100%|██████████| 782/782 [08:13<00:00,  1.58it/s]\n",
            "Loss: 1.631e-01 - Acc: 95.44% : 100%|██████████| 157/157 [00:32<00:00,  4.84it/s]\n"
          ]
        },
        {
          "output_type": "stream",
          "name": "stdout",
          "text": [
            "Epoch  10 finished in 526.47s\n"
          ]
        },
        {
          "output_type": "display_data",
          "data": {
            "text/plain": [
              "<Figure size 432x288 with 1 Axes>"
            ],
            "image/png": "[encoded data removed]"
          },
          "metadata": {
            "needs_background": "light"
          }
        },
        {
          "output_type": "display_data",
          "data": {
            "text/plain": [
              "<Figure size 432x288 with 1 Axes>"
            ],
            "image/png": "[encoded data removed]"
          },
          "metadata": {
            "needs_background": "light"
          }
        },
        {
          "output_type": "stream",
          "name": "stdout",
          "text": [
            "Best Accuracy :95.44%\n"
          ]
        }
      ]
    },
    {
      "cell_type": "markdown",
      "source": [
        "ImageNet has 1000 classes, and we just want ten classes! Besides, ImageNet images have 224*224 pixel size and in CIFAR-10 size of images is 32*32, and we resized them to work properly. \n",
        "For this reason, I think tuning the last layer was not the perfect idea in this application (because of differences in CIFAR-10 and weights), and early layers should update here. \n",
        "We ran part D 10 epochs and got a much better result than the 20 epochs in part A. This happened while other parameters of both networks remained the same. The best model has been saved in the 'Resnet50_Cifar10_full.pth' file. "
      ],
      "metadata": {
        "id": "Jq5GL7dndZMm"
      }
    }
  ],
  "metadata": {
    "accelerator": "GPU",
    "colab": {
      "provenance": [],
      "include_colab_link": true
    },
    "gpuClass": "standard",
    "kernelspec": {
      "display_name": "Python 3 (ipykernel)",
      "language": "python",
      "name": "python3"
    },
    "language_info": {
      "name": "python"
    },
    "widgets": {
      "application/vnd.jupyter.widget-state+json": {
        "78b3e3ddaf9646048afdf9e0799d3685": {
          "model_module": "@jupyter-widgets/controls",
          "model_name": "HBoxModel",
          "model_module_version": "1.5.0",
          "state": {
            "_dom_classes": [],
            "_model_module": "@jupyter-widgets/controls",
            "_model_module_version": "1.5.0",
            "_model_name": "HBoxModel",
            "_view_count": null,
            "_view_module": "@jupyter-widgets/controls",
            "_view_module_version": "1.5.0",
            "_view_name": "HBoxView",
            "box_style": "",
            "children": [
              "IPY_MODEL_2bb638d705f340b2b6b8b386de2b404c",
              "IPY_MODEL_33c3dd520bf3469d991d939d0be6ccd0",
              "IPY_MODEL_47e0c87b494f453db252b983274ce9e8"
            ],
            "layout": "IPY_MODEL_0965e84d2d014c10924105c37cad6b2b"
          }
        },
        "2bb638d705f340b2b6b8b386de2b404c": {
          "model_module": "@jupyter-widgets/controls",
          "model_name": "HTMLModel",
          "model_module_version": "1.5.0",
          "state": {
            "_dom_classes": [],
            "_model_module": "@jupyter-widgets/controls",
            "_model_module_version": "1.5.0",
            "_model_name": "HTMLModel",
            "_view_count": null,
            "_view_module": "@jupyter-widgets/controls",
            "_view_module_version": "1.5.0",
            "_view_name": "HTMLView",
            "description": "",
            "description_tooltip": null,
            "layout": "IPY_MODEL_002d258730cc4ab280cb9c4602d73481",
            "placeholder": "​",
            "style": "IPY_MODEL_b570737159344cf585647925b060c816",
            "value": "100%"
          }
        },
        "33c3dd520bf3469d991d939d0be6ccd0": {
          "model_module": "@jupyter-widgets/controls",
          "model_name": "FloatProgressModel",
          "model_module_version": "1.5.0",
          "state": {
            "_dom_classes": [],
            "_model_module": "@jupyter-widgets/controls",
            "_model_module_version": "1.5.0",
            "_model_name": "FloatProgressModel",
            "_view_count": null,
            "_view_module": "@jupyter-widgets/controls",
            "_view_module_version": "1.5.0",
            "_view_name": "ProgressView",
            "bar_style": "success",
            "description": "",
            "description_tooltip": null,
            "layout": "IPY_MODEL_7bc7316b0e054189aeb241617e6c3f5d",
            "max": 102540417,
            "min": 0,
            "orientation": "horizontal",
            "style": "IPY_MODEL_122bf577795d4a6bb61fbd789ffffe73",
            "value": 102540417
          }
        },
        "47e0c87b494f453db252b983274ce9e8": {
          "model_module": "@jupyter-widgets/controls",
          "model_name": "HTMLModel",
          "model_module_version": "1.5.0",
          "state": {
            "_dom_classes": [],
            "_model_module": "@jupyter-widgets/controls",
            "_model_module_version": "1.5.0",
            "_model_name": "HTMLModel",
            "_view_count": null,
            "_view_module": "@jupyter-widgets/controls",
            "_view_module_version": "1.5.0",
            "_view_name": "HTMLView",
            "description": "",
            "description_tooltip": null,
            "layout": "IPY_MODEL_610019b2bf0a48b9836da957a3f5e4ff",
            "placeholder": "​",
            "style": "IPY_MODEL_34bdc211a73642d8b7a4e89cd2fb0e23",
            "value": " 97.8M/97.8M [00:00&lt;00:00, 250MB/s]"
          }
        },
        "0965e84d2d014c10924105c37cad6b2b": {
          "model_module": "@jupyter-widgets/base",
          "model_name": "LayoutModel",
          "model_module_version": "1.2.0",
          "state": {
            "_model_module": "@jupyter-widgets/base",
            "_model_module_version": "1.2.0",
            "_model_name": "LayoutModel",
            "_view_count": null,
            "_view_module": "@jupyter-widgets/base",
            "_view_module_version": "1.2.0",
            "_view_name": "LayoutView",
            "align_content": null,
            "align_items": null,
            "align_self": null,
            "border": null,
            "bottom": null,
            "display": null,
            "flex": null,
            "flex_flow": null,
            "grid_area": null,
            "grid_auto_columns": null,
            "grid_auto_flow": null,
            "grid_auto_rows": null,
            "grid_column": null,
            "grid_gap": null,
            "grid_row": null,
            "grid_template_areas": null,
            "grid_template_columns": null,
            "grid_template_rows": null,
            "height": null,
            "justify_content": null,
            "justify_items": null,
            "left": null,
            "margin": null,
            "max_height": null,
            "max_width": null,
            "min_height": null,
            "min_width": null,
            "object_fit": null,
            "object_position": null,
            "order": null,
            "overflow": null,
            "overflow_x": null,
            "overflow_y": null,
            "padding": null,
            "right": null,
            "top": null,
            "visibility": null,
            "width": null
          }
        },
        "002d258730cc4ab280cb9c4602d73481": {
          "model_module": "@jupyter-widgets/base",
          "model_name": "LayoutModel",
          "model_module_version": "1.2.0",
          "state": {
            "_model_module": "@jupyter-widgets/base",
            "_model_module_version": "1.2.0",
            "_model_name": "LayoutModel",
            "_view_count": null,
            "_view_module": "@jupyter-widgets/base",
            "_view_module_version": "1.2.0",
            "_view_name": "LayoutView",
            "align_content": null,
            "align_items": null,
            "align_self": null,
            "border": null,
            "bottom": null,
            "display": null,
            "flex": null,
            "flex_flow": null,
            "grid_area": null,
            "grid_auto_columns": null,
            "grid_auto_flow": null,
            "grid_auto_rows": null,
            "grid_column": null,
            "grid_gap": null,
            "grid_row": null,
            "grid_template_areas": null,
            "grid_template_columns": null,
            "grid_template_rows": null,
            "height": null,
            "justify_content": null,
            "justify_items": null,
            "left": null,
            "margin": null,
            "max_height": null,
            "max_width": null,
            "min_height": null,
            "min_width": null,
            "object_fit": null,
            "object_position": null,
            "order": null,
            "overflow": null,
            "overflow_x": null,
            "overflow_y": null,
            "padding": null,
            "right": null,
            "top": null,
            "visibility": null,
            "width": null
          }
        },
        "b570737159344cf585647925b060c816": {
          "model_module": "@jupyter-widgets/controls",
          "model_name": "DescriptionStyleModel",
          "model_module_version": "1.5.0",
          "state": {
            "_model_module": "@jupyter-widgets/controls",
            "_model_module_version": "1.5.0",
            "_model_name": "DescriptionStyleModel",
            "_view_count": null,
            "_view_module": "@jupyter-widgets/base",
            "_view_module_version": "1.2.0",
            "_view_name": "StyleView",
            "description_width": ""
          }
        },
        "7bc7316b0e054189aeb241617e6c3f5d": {
          "model_module": "@jupyter-widgets/base",
          "model_name": "LayoutModel",
          "model_module_version": "1.2.0",
          "state": {
            "_model_module": "@jupyter-widgets/base",
            "_model_module_version": "1.2.0",
            "_model_name": "LayoutModel",
            "_view_count": null,
            "_view_module": "@jupyter-widgets/base",
            "_view_module_version": "1.2.0",
            "_view_name": "LayoutView",
            "align_content": null,
            "align_items": null,
            "align_self": null,
            "border": null,
            "bottom": null,
            "display": null,
            "flex": null,
            "flex_flow": null,
            "grid_area": null,
            "grid_auto_columns": null,
            "grid_auto_flow": null,
            "grid_auto_rows": null,
            "grid_column": null,
            "grid_gap": null,
            "grid_row": null,
            "grid_template_areas": null,
            "grid_template_columns": null,
            "grid_template_rows": null,
            "height": null,
            "justify_content": null,
            "justify_items": null,
            "left": null,
            "margin": null,
            "max_height": null,
            "max_width": null,
            "min_height": null,
            "min_width": null,
            "object_fit": null,
            "object_position": null,
            "order": null,
            "overflow": null,
            "overflow_x": null,
            "overflow_y": null,
            "padding": null,
            "right": null,
            "top": null,
            "visibility": null,
            "width": null
          }
        },
        "122bf577795d4a6bb61fbd789ffffe73": {
          "model_module": "@jupyter-widgets/controls",
          "model_name": "ProgressStyleModel",
          "model_module_version": "1.5.0",
          "state": {
            "_model_module": "@jupyter-widgets/controls",
            "_model_module_version": "1.5.0",
            "_model_name": "ProgressStyleModel",
            "_view_count": null,
            "_view_module": "@jupyter-widgets/base",
            "_view_module_version": "1.2.0",
            "_view_name": "StyleView",
            "bar_color": null,
            "description_width": ""
          }
        },
        "610019b2bf0a48b9836da957a3f5e4ff": {
          "model_module": "@jupyter-widgets/base",
          "model_name": "LayoutModel",
          "model_module_version": "1.2.0",
          "state": {
            "_model_module": "@jupyter-widgets/base",
            "_model_module_version": "1.2.0",
            "_model_name": "LayoutModel",
            "_view_count": null,
            "_view_module": "@jupyter-widgets/base",
            "_view_module_version": "1.2.0",
            "_view_name": "LayoutView",
            "align_content": null,
            "align_items": null,
            "align_self": null,
            "border": null,
            "bottom": null,
            "display": null,
            "flex": null,
            "flex_flow": null,
            "grid_area": null,
            "grid_auto_columns": null,
            "grid_auto_flow": null,
            "grid_auto_rows": null,
            "grid_column": null,
            "grid_gap": null,
            "grid_row": null,
            "grid_template_areas": null,
            "grid_template_columns": null,
            "grid_template_rows": null,
            "height": null,
            "justify_content": null,
            "justify_items": null,
            "left": null,
            "margin": null,
            "max_height": null,
            "max_width": null,
            "min_height": null,
            "min_width": null,
            "object_fit": null,
            "object_position": null,
            "order": null,
            "overflow": null,
            "overflow_x": null,
            "overflow_y": null,
            "padding": null,
            "right": null,
            "top": null,
            "visibility": null,
            "width": null
          }
        },
        "34bdc211a73642d8b7a4e89cd2fb0e23": {
          "model_module": "@jupyter-widgets/controls",
          "model_name": "DescriptionStyleModel",
          "model_module_version": "1.5.0",
          "state": {
            "_model_module": "@jupyter-widgets/controls",
            "_model_module_version": "1.5.0",
            "_model_name": "DescriptionStyleModel",
            "_view_count": null,
            "_view_module": "@jupyter-widgets/base",
            "_view_module_version": "1.2.0",
            "_view_name": "StyleView",
            "description_width": ""
          }
        }
      }
    }
  },
  "nbformat": 4,
  "nbformat_minor": 0
}