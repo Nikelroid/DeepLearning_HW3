{
  "cells": [
    {
      "cell_type": "markdown",
      "metadata": {
        "id": "view-in-github",
        "colab_type": "text"
      },
      "source": [
        "<a href=\"https://colab.research.google.com/github/Nikelroid/DeepLearning_HW3/blob/main/DL2022_HW3_Teories.ipynb\" target=\"_parent\"><img src=\"https://colab.research.google.com/assets/colab-badge.svg\" alt=\"Open In Colab\"/></a>"
      ]
    },
    {
      "cell_type": "code",
      "source": [
        "#pip install opencv-python\n",
        "import cv2\n",
        "import numpy as np\n",
        "from google.colab.patches import cv2_imshow"
      ],
      "metadata": {
        "id": "YRt1TonR1tc5"
      },
      "execution_count": 13,
      "outputs": []
    },
    {
      "cell_type": "markdown",
      "source": [
        "# **Q1**"
      ],
      "metadata": {
        "id": "xnf7cvrQ1orG"
      }
    },
    {
      "cell_type": "code",
      "source": [
        "bin = 0\n",
        "def binary_maker(bin):\n",
        "  if bin%2 == 0:\n",
        "    return 255\n",
        "  else:\n",
        "    return 0\n",
        "\n",
        "chess_array = np.array([[binary_maker(i+j) for i in range(8)]for j in range(8)],dtype='uint8')\n",
        "print ('Before conv:')\n",
        "cv2_imshow(cv2.resize(chess_array,(256,256),interpolation = cv2.INTER_NEAREST))\n",
        "filter = np.array([[1/9 for i in range(3)]for j in range(3)],dtype='float64')\n",
        "for i in range (1,7):\n",
        "  for j in range (1,7):\n",
        "    chess_array[i,j] = np.sum(filter*chess_array[i-1:i+2,j-1:j+2])\n",
        "print ('After conv:')\n",
        "cv2_imshow(cv2.resize(chess_array,(256,256),interpolation = cv2.INTER_NEAREST))"
      ],
      "metadata": {
        "colab": {
          "base_uri": "https://localhost:8080/",
          "height": 564
        },
        "id": "akWcQXVG2mzQ",
        "outputId": "45b27b93-eb18-403a-d586-516672f43df6"
      },
      "execution_count": 29,
      "outputs": [
        {
          "output_type": "stream",
          "name": "stdout",
          "text": [
            "Before conv:\n"
          ]
        },
        {
          "output_type": "display_data",
          "data": {
            "text/plain": [
              "<PIL.Image.Image image mode=L size=256x256 at 0x7FDB58E69F70>"
            ],
            "image/png": "[encoded data removed]"
          },
          "metadata": {}
        },
        {
          "output_type": "stream",
          "name": "stdout",
          "text": [
            "After conv:\n"
          ]
        },
        {
          "output_type": "display_data",
          "data": {
            "text/plain": [
              "<PIL.Image.Image image mode=L size=256x256 at 0x7FDB58E69F70>"
            ],
            "image/png": "[encoded data removed]"
          },
          "metadata": {}
        }
      ]
    }
  ],
  "metadata": {
    "accelerator": "GPU",
    "colab": {
      "provenance": [],
      "include_colab_link": true
    },
    "gpuClass": "standard",
    "kernelspec": {
      "display_name": "Python 3 (ipykernel)",
      "language": "python",
      "name": "python3"
    },
    "language_info": {
      "name": "python"
    }
  },
  "nbformat": 4,
  "nbformat_minor": 0
}